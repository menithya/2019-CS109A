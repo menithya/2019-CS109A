{
  "nbformat": 4,
  "nbformat_minor": 0,
  "metadata": {
    "colab": {
      "provenance": [],
      "mount_file_id": "1JWh3uNn3BqSNrJDK1OJDJcJhw0lX6H9K",
      "authorship_tag": "ABX9TyPrsSN4PJGZpzFsklFzF9m+",
      "include_colab_link": true
    },
    "kernelspec": {
      "name": "python3",
      "display_name": "Python 3"
    },
    "language_info": {
      "name": "python"
    }
  },
  "cells": [
    {
      "cell_type": "markdown",
      "metadata": {
        "id": "view-in-github",
        "colab_type": "text"
      },
      "source": [
        "<a href=\"https://colab.research.google.com/github/menithya/2019-CS109A/blob/master/Tensorflow_i_i_D_and_non_i_i_D.ipynb\" target=\"_parent\"><img src=\"https://colab.research.google.com/assets/colab-badge.svg\" alt=\"Open In Colab\"/></a>"
      ]
    },
    {
      "cell_type": "code",
      "execution_count": null,
      "metadata": {
        "colab": {
          "base_uri": "https://localhost:8080/"
        },
        "id": "Daq_Xfvozyy4",
        "outputId": "b6e883b7-e971-4cc6-c25c-72cf4927d707"
      },
      "outputs": [
        {
          "output_type": "stream",
          "name": "stdout",
          "text": [
            "sample_data\n"
          ]
        }
      ],
      "source": [
        "!ls"
      ]
    },
    {
      "cell_type": "code",
      "source": [
        "!git clone https://github.com/menithya/Python-for-Data-Science.git /content/drive/MyDrive/Python-for-Data-Science\n"
      ],
      "metadata": {
        "id": "HnXqJGSG1W66",
        "outputId": "771c7915-a94d-41b0-d33c-e9cca951fe7d",
        "colab": {
          "base_uri": "https://localhost:8080/"
        }
      },
      "execution_count": 5,
      "outputs": [
        {
          "output_type": "stream",
          "name": "stdout",
          "text": [
            "Cloning into '/content/drive/MyDrive/Python-for-Data-Science'...\n",
            "fatal: could not read Username for 'https://github.com': No such device or address\n"
          ]
        }
      ]
    },
    {
      "cell_type": "code",
      "source": [],
      "metadata": {
        "id": "GgdIgepK1Zug"
      },
      "execution_count": null,
      "outputs": []
    }
  ]
}